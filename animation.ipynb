{
  "nbformat": 4,
  "nbformat_minor": 0,
  "metadata": {
    "colab": {
      "name": "animation.ipynb",
      "provenance": [],
      "collapsed_sections": []
    },
    "kernelspec": {
      "name": "python3",
      "display_name": "Python 3"
    },
    "language_info": {
      "name": "python"
    },
    "accelerator": "GPU"
  },
  "cells": [
    {
      "cell_type": "code",
      "execution_count": null,
      "metadata": {
        "colab": {
          "base_uri": "https://localhost:8080/"
        },
        "id": "dz5rNHwm0uSc",
        "outputId": "e63fa846-ddc5-4014-839c-f6e4815ba681"
      },
      "outputs": [
        {
          "output_type": "stream",
          "name": "stdout",
          "text": [
            "Collecting tf-keras-vis\n",
            "  Downloading tf_keras_vis-0.8.1-py3-none-any.whl (53 kB)\n",
            "\u001b[?25l\r\u001b[K     |██████▏                         | 10 kB 18.6 MB/s eta 0:00:01\r\u001b[K     |████████████▎                   | 20 kB 11.7 MB/s eta 0:00:01\r\u001b[K     |██████████████████▍             | 30 kB 9.3 MB/s eta 0:00:01\r\u001b[K     |████████████████████████▋       | 40 kB 8.4 MB/s eta 0:00:01\r\u001b[K     |██████████████████████████████▊ | 51 kB 5.5 MB/s eta 0:00:01\r\u001b[K     |████████████████████████████████| 53 kB 1.4 MB/s \n",
            "\u001b[?25hRequirement already satisfied: importlib-metadata in /usr/local/lib/python3.7/dist-packages (from tf-keras-vis) (4.11.3)\n",
            "Requirement already satisfied: imageio in /usr/local/lib/python3.7/dist-packages (from tf-keras-vis) (2.4.1)\n",
            "Collecting deprecated\n",
            "  Downloading Deprecated-1.2.13-py2.py3-none-any.whl (9.6 kB)\n",
            "Requirement already satisfied: pillow in /usr/local/lib/python3.7/dist-packages (from tf-keras-vis) (7.1.2)\n",
            "Requirement already satisfied: packaging in /usr/local/lib/python3.7/dist-packages (from tf-keras-vis) (21.3)\n",
            "Requirement already satisfied: scipy in /usr/local/lib/python3.7/dist-packages (from tf-keras-vis) (1.4.1)\n",
            "Requirement already satisfied: wrapt<2,>=1.10 in /usr/local/lib/python3.7/dist-packages (from deprecated->tf-keras-vis) (1.14.0)\n",
            "Requirement already satisfied: numpy in /usr/local/lib/python3.7/dist-packages (from imageio->tf-keras-vis) (1.21.5)\n",
            "Requirement already satisfied: typing-extensions>=3.6.4 in /usr/local/lib/python3.7/dist-packages (from importlib-metadata->tf-keras-vis) (3.10.0.2)\n",
            "Requirement already satisfied: zipp>=0.5 in /usr/local/lib/python3.7/dist-packages (from importlib-metadata->tf-keras-vis) (3.7.0)\n",
            "Requirement already satisfied: pyparsing!=3.0.5,>=2.0.2 in /usr/local/lib/python3.7/dist-packages (from packaging->tf-keras-vis) (3.0.7)\n",
            "Installing collected packages: deprecated, tf-keras-vis\n",
            "Successfully installed deprecated-1.2.13 tf-keras-vis-0.8.1\n"
          ]
        }
      ],
      "source": [
        "!pip install tf-keras-vis"
      ]
    },
    {
      "cell_type": "code",
      "source": [
        "%reload_ext autoreload\n",
        "%autoreload 2\n",
        "\n",
        "import numpy as np\n",
        "from matplotlib import pyplot as plt\n",
        "%matplotlib inline\n",
        " \n",
        "import tensorflow as tf\n",
        "from tf_keras_vis.utils import num_of_gpus\n",
        " \n",
        "_, gpus = num_of_gpus()\n",
        "print('Tensorflow recognized {} GPUs'.format(gpus))"
      ],
      "metadata": {
        "colab": {
          "base_uri": "https://localhost:8080/"
        },
        "id": "xGwh-Mi000IM",
        "outputId": "e1380d39-4630-4d47-86fd-a5ead970e151"
      },
      "execution_count": null,
      "outputs": [
        {
          "output_type": "stream",
          "name": "stdout",
          "text": [
            "Tensorflow recognized 1 GPUs\n"
          ]
        }
      ]
    },
    {
      "cell_type": "code",
      "source": [
        "from tensorflow.keras.applications.vgg16 import VGG16 as Model\n",
        " \n",
        "# Load model\n",
        "model = Model(weights='imagenet', include_top=True)\n",
        "model.summary()"
      ],
      "metadata": {
        "colab": {
          "base_uri": "https://localhost:8080/"
        },
        "id": "C1eAj3wT077y",
        "outputId": "447cbc2d-8f7c-4f6d-ec8a-9303ba59eab3"
      },
      "execution_count": null,
      "outputs": [
        {
          "output_type": "stream",
          "name": "stdout",
          "text": [
            "Downloading data from https://storage.googleapis.com/tensorflow/keras-applications/vgg16/vgg16_weights_tf_dim_ordering_tf_kernels.h5\n",
            "553467904/553467096 [==============================] - 8s 0us/step\n",
            "553476096/553467096 [==============================] - 8s 0us/step\n",
            "Model: \"vgg16\"\n",
            "_________________________________________________________________\n",
            " Layer (type)                Output Shape              Param #   \n",
            "=================================================================\n",
            " input_1 (InputLayer)        [(None, 224, 224, 3)]     0         \n",
            "                                                                 \n",
            " block1_conv1 (Conv2D)       (None, 224, 224, 64)      1792      \n",
            "                                                                 \n",
            " block1_conv2 (Conv2D)       (None, 224, 224, 64)      36928     \n",
            "                                                                 \n",
            " block1_pool (MaxPooling2D)  (None, 112, 112, 64)      0         \n",
            "                                                                 \n",
            " block2_conv1 (Conv2D)       (None, 112, 112, 128)     73856     \n",
            "                                                                 \n",
            " block2_conv2 (Conv2D)       (None, 112, 112, 128)     147584    \n",
            "                                                                 \n",
            " block2_pool (MaxPooling2D)  (None, 56, 56, 128)       0         \n",
            "                                                                 \n",
            " block3_conv1 (Conv2D)       (None, 56, 56, 256)       295168    \n",
            "                                                                 \n",
            " block3_conv2 (Conv2D)       (None, 56, 56, 256)       590080    \n",
            "                                                                 \n",
            " block3_conv3 (Conv2D)       (None, 56, 56, 256)       590080    \n",
            "                                                                 \n",
            " block3_pool (MaxPooling2D)  (None, 28, 28, 256)       0         \n",
            "                                                                 \n",
            " block4_conv1 (Conv2D)       (None, 28, 28, 512)       1180160   \n",
            "                                                                 \n",
            " block4_conv2 (Conv2D)       (None, 28, 28, 512)       2359808   \n",
            "                                                                 \n",
            " block4_conv3 (Conv2D)       (None, 28, 28, 512)       2359808   \n",
            "                                                                 \n",
            " block4_pool (MaxPooling2D)  (None, 14, 14, 512)       0         \n",
            "                                                                 \n",
            " block5_conv1 (Conv2D)       (None, 14, 14, 512)       2359808   \n",
            "                                                                 \n",
            " block5_conv2 (Conv2D)       (None, 14, 14, 512)       2359808   \n",
            "                                                                 \n",
            " block5_conv3 (Conv2D)       (None, 14, 14, 512)       2359808   \n",
            "                                                                 \n",
            " block5_pool (MaxPooling2D)  (None, 7, 7, 512)         0         \n",
            "                                                                 \n",
            " flatten (Flatten)           (None, 25088)             0         \n",
            "                                                                 \n",
            " fc1 (Dense)                 (None, 4096)              102764544 \n",
            "                                                                 \n",
            " fc2 (Dense)                 (None, 4096)              16781312  \n",
            "                                                                 \n",
            " predictions (Dense)         (None, 1000)              4097000   \n",
            "                                                                 \n",
            "=================================================================\n",
            "Total params: 138,357,544\n",
            "Trainable params: 138,357,544\n",
            "Non-trainable params: 0\n",
            "_________________________________________________________________\n"
          ]
        }
      ]
    },
    {
      "cell_type": "code",
      "source": [
        "from tf_keras_vis.activation_maximization import ActivationMaximization\n",
        "from tf_keras_vis.activation_maximization.input_modifiers import Jitter, Rotate2D, Scale\n",
        "from tf_keras_vis.activation_maximization.regularizers import Norm, TotalVariation2D\n",
        "from tf_keras_vis.activation_maximization.callbacks import Progress, PrintLogger\n",
        "from tf_keras_vis.utils.model_modifiers import ExtractIntermediateLayer, ReplaceToLinear\n",
        "from tf_keras_vis.utils.scores import CategoricalScore\n",
        "\n",
        "def visualize_layer(model, layer_name, scores):\n",
        "  def model_modifier_function(current_model):\n",
        "    target_layer = current_model.get_layer(name=layer_name)\n",
        "    target_layer.activation = tf.keras.activations.linear\n",
        "    new_model = tf.keras.Model(inputs=current_model.inputs,\n",
        "                               outputs=target_layer.output)\n",
        "    return new_model\n",
        "\n",
        "  activation_maximization = ActivationMaximization(\n",
        "      model,\n",
        "      model_modifier=model_modifier_function,\n",
        "      clone=True,\n",
        "  )\n",
        "\n",
        "  seed_input = tf.random.uniform((len(scores.indices), 224, 224, 3), 0, 255)\n",
        "\n",
        "  # Generate maximized activation\n",
        "  activations = activation_maximization(\n",
        "      scores,\n",
        "      seed_input=seed_input,\n",
        "      callbacks=[Progress()],\n",
        "  )\n",
        "\n",
        "  return activations"
      ],
      "metadata": {
        "id": "yqH77oTZQt5v"
      },
      "execution_count": null,
      "outputs": []
    },
    {
      "cell_type": "code",
      "source": [
        "from tf_keras_vis.activation_maximization.callbacks import Callback\n",
        "from tf_keras_vis.activation_maximization import ActivationMaximization\n",
        "from tf_keras_vis.activation_maximization.input_modifiers import Jitter, Rotate2D, Scale\n",
        "from tf_keras_vis.activation_maximization.regularizers import Norm, TotalVariation2D\n",
        "from tf_keras_vis.activation_maximization.callbacks import Progress, PrintLogger\n",
        "from tf_keras_vis.utils.model_modifiers import ExtractIntermediateLayer, ReplaceToLinear\n",
        "from tf_keras_vis.utils.scores import CategoricalScore\n",
        "\n",
        "class debug_callback(Callback):\n",
        "  def on_begin(self, **kwargs) -> None:\n",
        "    pass\n",
        "\n",
        "  def on_end(self, **kwargs):\n",
        "    pass\n",
        "\n",
        "  def __call__(self, step, clipped_value, grads, score_values, outputs, regularizations, overall_score):\n",
        "    # print(f'clipped value :{clipped_value.shape}')\n",
        "    print(f'scores value  :{score_values}')\n",
        "    # print(f'outputs       :{outputs.shape}')\n",
        "    print(f'overall_score : {overall_score}')\n",
        "    # raise \"oops\"\n",
        "\n",
        "def generate_gif(model, score: int, category_name='', layer_name = -1):\n",
        "  from tf_keras_vis.activation_maximization.callbacks import GifGenerator2D\n",
        "\n",
        "  scores = CategoricalScore([score, score+1])\n",
        "  seed_input = tf.random.uniform((2, 224, 224, 3), 0, 255)\n",
        "\n",
        "  # def animate_vis_layer(model, layer_name, seed_input, scores, image_titles):\n",
        "  activation_maximization = ActivationMaximization(\n",
        "      model,\n",
        "      model_modifier=[ExtractIntermediateLayer(index_or_name=layer_name), ReplaceToLinear()],\n",
        "      clone=True,\n",
        "  )\n",
        "\n",
        "  # Generate maximized activation\n",
        "  activations = activation_maximization(\n",
        "      scores,\n",
        "      seed_input=seed_input,\n",
        "      callbacks=[\n",
        "                #  Progress(),\n",
        "                 debug_callback(),\n",
        "                 GifGenerator2D(f'/content/drive/MyDrive/Vis/nitish/{category_name}.gif')\n",
        "      ],\n",
        "  )\n",
        "\n",
        "# image_titles = ['great_white_shark', 'bald_eagle', 'assault_rifle']\n",
        "# scores = CategoricalScore([2, 22, 413])\n",
        "\n",
        "generate_gif(model, 2, 'great_white_shark')\n",
        "generate_gif(model, 22, 'bald_eagle')\n",
        "generate_gif(model, 413, 'assault_rifle')"
      ],
      "metadata": {
        "colab": {
          "base_uri": "https://localhost:8080/",
          "height": 994
        },
        "id": "kq-yflGRvyek",
        "outputId": "1a78f34b-b346-4443-c30f-621cd8a70eb2"
      },
      "execution_count": null,
      "outputs": [
        {
          "output_type": "stream",
          "name": "stdout",
          "text": [
            "scores value  :[<tf.Tensor: shape=(2,), dtype=float32, numpy=array([-2.7517862, -2.1464765], dtype=float32)>]\n",
            "overall_score : [<tf.Tensor: shape=(2,), dtype=float32, numpy=array([2.7517862, 2.1464765], dtype=float32)>, <tf.Tensor: shape=(2,), dtype=float32, numpy=array([98.631485, 98.792015], dtype=float32)>, <tf.Tensor: shape=(2,), dtype=float32, numpy=array([38.11472, 38.24089], dtype=float32)>]\n",
            "scores value  :[<tf.Tensor: shape=(2,), dtype=float32, numpy=array([-1.1468974, -2.5918787], dtype=float32)>]\n",
            "overall_score : [<tf.Tensor: shape=(2,), dtype=float32, numpy=array([1.1468974, 2.5918787], dtype=float32)>, <tf.Tensor: shape=(2,), dtype=float32, numpy=array([53.96645, 55.64941], dtype=float32)>, <tf.Tensor: shape=(2,), dtype=float32, numpy=array([37.71027, 37.8545 ], dtype=float32)>]\n",
            "scores value  :[<tf.Tensor: shape=(2,), dtype=float32, numpy=array([2.1396167, 2.4197555], dtype=float32)>]\n",
            "overall_score : [<tf.Tensor: shape=(2,), dtype=float32, numpy=array([-2.1396167, -2.4197555], dtype=float32)>, <tf.Tensor: shape=(2,), dtype=float32, numpy=array([43.181156, 45.21789 ], dtype=float32)>, <tf.Tensor: shape=(2,), dtype=float32, numpy=array([37.391663, 37.55348 ], dtype=float32)>]\n",
            "scores value  :[<tf.Tensor: shape=(2,), dtype=float32, numpy=array([2.2309158, 5.7376857], dtype=float32)>]\n",
            "overall_score : [<tf.Tensor: shape=(2,), dtype=float32, numpy=array([-2.2309158, -5.7376857], dtype=float32)>, <tf.Tensor: shape=(2,), dtype=float32, numpy=array([32.562798, 34.268917], dtype=float32)>, <tf.Tensor: shape=(2,), dtype=float32, numpy=array([37.114094, 37.300964], dtype=float32)>]\n",
            "scores value  :[<tf.Tensor: shape=(2,), dtype=float32, numpy=array([ 6.903646, 10.852242], dtype=float32)>]\n",
            "overall_score : [<tf.Tensor: shape=(2,), dtype=float32, numpy=array([ -6.903646, -10.852242], dtype=float32)>, <tf.Tensor: shape=(2,), dtype=float32, numpy=array([28.343924, 27.95628 ], dtype=float32)>, <tf.Tensor: shape=(2,), dtype=float32, numpy=array([36.88179, 37.06011], dtype=float32)>]\n",
            "scores value  :[<tf.Tensor: shape=(2,), dtype=float32, numpy=array([12.893943, 13.025744], dtype=float32)>]\n",
            "overall_score : [<tf.Tensor: shape=(2,), dtype=float32, numpy=array([-12.893943, -13.025744], dtype=float32)>, <tf.Tensor: shape=(2,), dtype=float32, numpy=array([25.731169, 26.783743], dtype=float32)>, <tf.Tensor: shape=(2,), dtype=float32, numpy=array([36.68629 , 36.866516], dtype=float32)>]\n",
            "scores value  :[<tf.Tensor: shape=(2,), dtype=float32, numpy=array([18.049484, 21.70787 ], dtype=float32)>]\n",
            "overall_score : [<tf.Tensor: shape=(2,), dtype=float32, numpy=array([-18.049484, -21.70787 ], dtype=float32)>, <tf.Tensor: shape=(2,), dtype=float32, numpy=array([26.662668, 26.270786], dtype=float32)>, <tf.Tensor: shape=(2,), dtype=float32, numpy=array([36.533337, 36.72884 ], dtype=float32)>]\n",
            "scores value  :[<tf.Tensor: shape=(2,), dtype=float32, numpy=array([30.846722, 33.11311 ], dtype=float32)>]\n",
            "overall_score : [<tf.Tensor: shape=(2,), dtype=float32, numpy=array([-30.846722, -33.11311 ], dtype=float32)>, <tf.Tensor: shape=(2,), dtype=float32, numpy=array([27.30058 , 27.503862], dtype=float32)>, <tf.Tensor: shape=(2,), dtype=float32, numpy=array([36.441353, 36.620644], dtype=float32)>]\n",
            "scores value  :[<tf.Tensor: shape=(2,), dtype=float32, numpy=array([35.30033, 43.75827], dtype=float32)>]\n",
            "overall_score : [<tf.Tensor: shape=(2,), dtype=float32, numpy=array([-35.30033, -43.75827], dtype=float32)>, <tf.Tensor: shape=(2,), dtype=float32, numpy=array([27.037973, 28.26233 ], dtype=float32)>, <tf.Tensor: shape=(2,), dtype=float32, numpy=array([36.33686, 36.54024], dtype=float32)>]\n",
            "scores value  :[<tf.Tensor: shape=(2,), dtype=float32, numpy=array([36.74186, 53.40056], dtype=float32)>]\n",
            "overall_score : [<tf.Tensor: shape=(2,), dtype=float32, numpy=array([-36.74186, -53.40056], dtype=float32)>, <tf.Tensor: shape=(2,), dtype=float32, numpy=array([27.578106, 28.493402], dtype=float32)>, <tf.Tensor: shape=(2,), dtype=float32, numpy=array([36.250282, 36.47636 ], dtype=float32)>]\n",
            "scores value  :[<tf.Tensor: shape=(2,), dtype=float32, numpy=array([46.55867, 64.14252], dtype=float32)>]\n",
            "overall_score : [<tf.Tensor: shape=(2,), dtype=float32, numpy=array([-46.55867, -64.14252], dtype=float32)>, <tf.Tensor: shape=(2,), dtype=float32, numpy=array([28.995861, 30.911898], dtype=float32)>, <tf.Tensor: shape=(2,), dtype=float32, numpy=array([36.16169 , 36.437492], dtype=float32)>]\n",
            "scores value  :[<tf.Tensor: shape=(2,), dtype=float32, numpy=array([71.060295, 94.92044 ], dtype=float32)>]\n",
            "overall_score : [<tf.Tensor: shape=(2,), dtype=float32, numpy=array([-71.060295, -94.92044 ], dtype=float32)>, <tf.Tensor: shape=(2,), dtype=float32, numpy=array([27.560734, 30.15555 ], dtype=float32)>, <tf.Tensor: shape=(2,), dtype=float32, numpy=array([36.104336, 36.399487], dtype=float32)>]\n",
            "scores value  :[<tf.Tensor: shape=(2,), dtype=float32, numpy=array([84.45714 , 93.989784], dtype=float32)>]\n",
            "overall_score : [<tf.Tensor: shape=(2,), dtype=float32, numpy=array([-84.45714 , -93.989784], dtype=float32)>, <tf.Tensor: shape=(2,), dtype=float32, numpy=array([26.842693, 29.867954], dtype=float32)>, <tf.Tensor: shape=(2,), dtype=float32, numpy=array([36.063477, 36.396854], dtype=float32)>]\n",
            "scores value  :[<tf.Tensor: shape=(2,), dtype=float32, numpy=array([77.90814, 85.92634], dtype=float32)>]\n",
            "overall_score : [<tf.Tensor: shape=(2,), dtype=float32, numpy=array([-77.90814, -85.92634], dtype=float32)>, <tf.Tensor: shape=(2,), dtype=float32, numpy=array([25.380686, 29.06034 ], dtype=float32)>, <tf.Tensor: shape=(2,), dtype=float32, numpy=array([36.008076, 36.37131 ], dtype=float32)>]\n",
            "scores value  :[<tf.Tensor: shape=(2,), dtype=float32, numpy=array([ 86.51488, 112.67521], dtype=float32)>]\n",
            "overall_score : [<tf.Tensor: shape=(2,), dtype=float32, numpy=array([ -86.51488, -112.67521], dtype=float32)>, <tf.Tensor: shape=(2,), dtype=float32, numpy=array([26.205269, 27.75926 ], dtype=float32)>, <tf.Tensor: shape=(2,), dtype=float32, numpy=array([35.984745, 36.35417 ], dtype=float32)>]\n",
            "scores value  :[<tf.Tensor: shape=(2,), dtype=float32, numpy=array([ 87.845665, 130.15913 ], dtype=float32)>]\n",
            "overall_score : [<tf.Tensor: shape=(2,), dtype=float32, numpy=array([ -87.845665, -130.15913 ], dtype=float32)>, <tf.Tensor: shape=(2,), dtype=float32, numpy=array([25.529362, 27.537668], dtype=float32)>, <tf.Tensor: shape=(2,), dtype=float32, numpy=array([35.95434, 36.33729], dtype=float32)>]\n",
            "scores value  :[<tf.Tensor: shape=(2,), dtype=float32, numpy=array([102.42213, 148.26155], dtype=float32)>]\n",
            "overall_score : [<tf.Tensor: shape=(2,), dtype=float32, numpy=array([-102.42213, -148.26155], dtype=float32)>, <tf.Tensor: shape=(2,), dtype=float32, numpy=array([25.56896 , 26.753508], dtype=float32)>, <tf.Tensor: shape=(2,), dtype=float32, numpy=array([35.93235, 36.33787], dtype=float32)>]\n"
          ]
        },
        {
          "output_type": "error",
          "ename": "KeyboardInterrupt",
          "evalue": "ignored",
          "traceback": [
            "\u001b[0;31m---------------------------------------------------------------------------\u001b[0m",
            "\u001b[0;31mKeyboardInterrupt\u001b[0m                         Traceback (most recent call last)",
            "\u001b[0;32m<ipython-input-19-facfbd1880af>\u001b[0m in \u001b[0;36m<module>\u001b[0;34m()\u001b[0m\n\u001b[1;32m     42\u001b[0m \u001b[0;31m# scores = CategoricalScore([2, 22, 413])\u001b[0m\u001b[0;34m\u001b[0m\u001b[0;34m\u001b[0m\u001b[0;34m\u001b[0m\u001b[0m\n\u001b[1;32m     43\u001b[0m \u001b[0;34m\u001b[0m\u001b[0m\n\u001b[0;32m---> 44\u001b[0;31m \u001b[0mgenerate_gif\u001b[0m\u001b[0;34m(\u001b[0m\u001b[0mmodel\u001b[0m\u001b[0;34m,\u001b[0m \u001b[0;36m2\u001b[0m\u001b[0;34m,\u001b[0m \u001b[0;34m'great_white_shark'\u001b[0m\u001b[0;34m)\u001b[0m\u001b[0;34m\u001b[0m\u001b[0;34m\u001b[0m\u001b[0m\n\u001b[0m\u001b[1;32m     45\u001b[0m \u001b[0;31m# generate_gif(model, 22, 'bald_eagle')\u001b[0m\u001b[0;34m\u001b[0m\u001b[0;34m\u001b[0m\u001b[0;34m\u001b[0m\u001b[0m\n\u001b[1;32m     46\u001b[0m \u001b[0;31m# generate_gif(model, 413, 'assault_rifle')\u001b[0m\u001b[0;34m\u001b[0m\u001b[0;34m\u001b[0m\u001b[0;34m\u001b[0m\u001b[0m\n",
            "\u001b[0;32m<ipython-input-19-facfbd1880af>\u001b[0m in \u001b[0;36mgenerate_gif\u001b[0;34m(model, score, category_name, layer_name)\u001b[0m\n\u001b[1;32m     34\u001b[0m       callbacks=[\n\u001b[1;32m     35\u001b[0m                 \u001b[0;31m#  Progress(),\u001b[0m\u001b[0;34m\u001b[0m\u001b[0;34m\u001b[0m\u001b[0;34m\u001b[0m\u001b[0m\n\u001b[0;32m---> 36\u001b[0;31m                  \u001b[0mdebug_callback\u001b[0m\u001b[0;34m(\u001b[0m\u001b[0;34m)\u001b[0m\u001b[0;34m,\u001b[0m\u001b[0;34m\u001b[0m\u001b[0;34m\u001b[0m\u001b[0m\n\u001b[0m\u001b[1;32m     37\u001b[0m                 \u001b[0;31m#  GifGenerator2D(f'/content/drive/MyDrive/Vis/nitish/{category_name}.gif')\u001b[0m\u001b[0;34m\u001b[0m\u001b[0;34m\u001b[0m\u001b[0;34m\u001b[0m\u001b[0m\n\u001b[1;32m     38\u001b[0m       ],\n",
            "\u001b[0;32m/usr/local/lib/python3.7/dist-packages/tf_keras_vis/activation_maximization/__init__.py\u001b[0m in \u001b[0;36m__call__\u001b[0;34m(self, score, seed_input, input_range, input_modifiers, regularizers, steps, optimizer, gradient_modifier, callbacks, training, unconnected_gradients, activation_modifiers, _compatible_mode)\u001b[0m\n\u001b[1;32m    206\u001b[0m                 \u001b[0;32mfor\u001b[0m \u001b[0mi\u001b[0m\u001b[0;34m,\u001b[0m \u001b[0mname\u001b[0m \u001b[0;32min\u001b[0m \u001b[0menumerate\u001b[0m\u001b[0;34m(\u001b[0m\u001b[0mself\u001b[0m\u001b[0;34m.\u001b[0m\u001b[0mmodel\u001b[0m\u001b[0;34m.\u001b[0m\u001b[0minput_names\u001b[0m\u001b[0;34m)\u001b[0m\u001b[0;34m:\u001b[0m\u001b[0;34m\u001b[0m\u001b[0;34m\u001b[0m\u001b[0m\n\u001b[1;32m    207\u001b[0m                     \u001b[0;32mfor\u001b[0m \u001b[0mmodifier\u001b[0m \u001b[0;32min\u001b[0m \u001b[0minput_modifiers\u001b[0m\u001b[0;34m[\u001b[0m\u001b[0mname\u001b[0m\u001b[0;34m]\u001b[0m\u001b[0;34m:\u001b[0m\u001b[0;34m\u001b[0m\u001b[0;34m\u001b[0m\u001b[0m\n\u001b[0;32m--> 208\u001b[0;31m                         \u001b[0minput_values\u001b[0m\u001b[0;34m[\u001b[0m\u001b[0mi\u001b[0m\u001b[0;34m]\u001b[0m \u001b[0;34m=\u001b[0m \u001b[0mmodifier\u001b[0m\u001b[0;34m(\u001b[0m\u001b[0minput_values\u001b[0m\u001b[0;34m[\u001b[0m\u001b[0mi\u001b[0m\u001b[0;34m]\u001b[0m\u001b[0;34m)\u001b[0m\u001b[0;34m\u001b[0m\u001b[0;34m\u001b[0m\u001b[0m\n\u001b[0m\u001b[1;32m    209\u001b[0m \u001b[0;34m\u001b[0m\u001b[0m\n\u001b[1;32m    210\u001b[0m                 \u001b[0;31m# Copy input values to variables\u001b[0m\u001b[0;34m\u001b[0m\u001b[0;34m\u001b[0m\u001b[0;34m\u001b[0m\u001b[0m\n",
            "\u001b[0;32m/usr/local/lib/python3.7/dist-packages/tf_keras_vis/activation_maximization/input_modifiers.py\u001b[0m in \u001b[0;36m__call__\u001b[0;34m(self, seed_input)\u001b[0m\n\u001b[1;32m     83\u001b[0m                             \u001b[0morder\u001b[0m\u001b[0;34m=\u001b[0m\u001b[0;36m1\u001b[0m\u001b[0;34m,\u001b[0m\u001b[0;34m\u001b[0m\u001b[0;34m\u001b[0m\u001b[0m\n\u001b[1;32m     84\u001b[0m                             \u001b[0mmode\u001b[0m\u001b[0;34m=\u001b[0m\u001b[0;34m'reflect'\u001b[0m\u001b[0;34m,\u001b[0m\u001b[0;34m\u001b[0m\u001b[0;34m\u001b[0m\u001b[0m\n\u001b[0;32m---> 85\u001b[0;31m                             prefilter=False)\n\u001b[0m\u001b[1;32m     86\u001b[0m         \u001b[0;32mreturn\u001b[0m \u001b[0mseed_input\u001b[0m\u001b[0;34m\u001b[0m\u001b[0;34m\u001b[0m\u001b[0m\n\u001b[1;32m     87\u001b[0m \u001b[0;34m\u001b[0m\u001b[0m\n",
            "\u001b[0;32m/usr/local/lib/python3.7/dist-packages/scipy/ndimage/interpolation.py\u001b[0m in \u001b[0;36mrotate\u001b[0;34m(input, angle, axes, reshape, output, order, mode, cval, prefilter)\u001b[0m\n\u001b[1;32m    742\u001b[0m             \u001b[0moa\u001b[0m \u001b[0;34m=\u001b[0m \u001b[0moutput\u001b[0m\u001b[0;34m[\u001b[0m\u001b[0mcoordinates\u001b[0m\u001b[0;34m]\u001b[0m\u001b[0;34m\u001b[0m\u001b[0;34m\u001b[0m\u001b[0m\n\u001b[1;32m    743\u001b[0m             affine_transform(ia, rot_matrix, offset, out_plane_shape,\n\u001b[0;32m--> 744\u001b[0;31m                              oa, order, mode, cval, prefilter)\n\u001b[0m\u001b[1;32m    745\u001b[0m \u001b[0;34m\u001b[0m\u001b[0m\n\u001b[1;32m    746\u001b[0m     \u001b[0;32mreturn\u001b[0m \u001b[0moutput\u001b[0m\u001b[0;34m\u001b[0m\u001b[0;34m\u001b[0m\u001b[0m\n",
            "\u001b[0;32m/usr/local/lib/python3.7/dist-packages/scipy/ndimage/interpolation.py\u001b[0m in \u001b[0;36maffine_transform\u001b[0;34m(input, matrix, offset, output_shape, output, order, mode, cval, prefilter)\u001b[0m\n\u001b[1;32m    484\u001b[0m     \u001b[0;32melse\u001b[0m\u001b[0;34m:\u001b[0m\u001b[0;34m\u001b[0m\u001b[0;34m\u001b[0m\u001b[0m\n\u001b[1;32m    485\u001b[0m         _nd_image.geometric_transform(filtered, None, None, matrix, offset,\n\u001b[0;32m--> 486\u001b[0;31m                                       output, order, mode, cval, None, None)\n\u001b[0m\u001b[1;32m    487\u001b[0m     \u001b[0;32mreturn\u001b[0m \u001b[0moutput\u001b[0m\u001b[0;34m\u001b[0m\u001b[0;34m\u001b[0m\u001b[0m\n\u001b[1;32m    488\u001b[0m \u001b[0;34m\u001b[0m\u001b[0m\n",
            "\u001b[0;31mKeyboardInterrupt\u001b[0m: "
          ]
        }
      ]
    }
  ]
}